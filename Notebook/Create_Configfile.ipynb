{
 "cells": [
  {
   "cell_type": "code",
   "execution_count": 1,
   "id": "4accf060",
   "metadata": {},
   "outputs": [],
   "source": [
    "import configparser"
   ]
  },
  {
   "cell_type": "code",
   "execution_count": 4,
   "id": "7cf19302",
   "metadata": {},
   "outputs": [],
   "source": [
    "config = configparser.ConfigParser()\n",
    "\n",
    "config.add_section('parameters')\n",
    "config.set('parameters', \n",
    "           'filepath', \n",
    "           '/Volumes/E-Study/Github/Data-Engineering-Vaccination-Metrics/Data')\n",
    "\n",
    "with open(r'/Volumes/E-Study/Github/Data-Engineering-Vaccination-Metrics/Config/configfile.ini',\n",
    "          'w') as configfile:\n",
    "    config.write(configfile)"
   ]
  },
  {
   "cell_type": "code",
   "execution_count": null,
   "id": "ee6688b6",
   "metadata": {},
   "outputs": [],
   "source": []
  }
 ],
 "metadata": {
  "kernelspec": {
   "display_name": "Python 3 (ipykernel)",
   "language": "python",
   "name": "python3"
  },
  "language_info": {
   "codemirror_mode": {
    "name": "ipython",
    "version": 3
   },
   "file_extension": ".py",
   "mimetype": "text/x-python",
   "name": "python",
   "nbconvert_exporter": "python",
   "pygments_lexer": "ipython3",
   "version": "3.9.13"
  }
 },
 "nbformat": 4,
 "nbformat_minor": 5
}
