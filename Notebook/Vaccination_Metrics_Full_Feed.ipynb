{
 "cells": [
  {
   "cell_type": "code",
   "execution_count": 30,
   "id": "6cb15098",
   "metadata": {},
   "outputs": [],
   "source": [
    "import numpy as np\n",
    "import pandas as pd\n",
    "import matplotlib.pyplot as plt\n",
    "import seaborn as sns\n",
    "import os\n",
    "import configparser\n",
    "import pathlib\n",
    "import logging\n",
    "from datetime import datetime\n",
    "import sys"
   ]
  },
  {
   "cell_type": "code",
   "execution_count": 31,
   "id": "795e4181",
   "metadata": {},
   "outputs": [
    {
     "name": "stdout",
     "output_type": "stream",
     "text": [
      "\u001b[34mArchive\u001b[m\u001b[m/   \u001b[34mData\u001b[m\u001b[m/      \u001b[34mLogs\u001b[m\u001b[m/      README.md\r\n",
      "\u001b[34mConfig\u001b[m\u001b[m/    \u001b[34mDataModel\u001b[m\u001b[m/ \u001b[34mNotebook\u001b[m\u001b[m/  \u001b[34mSOW\u001b[m\u001b[m/\r\n"
     ]
    }
   ],
   "source": [
    "ls ./.."
   ]
  },
  {
   "cell_type": "code",
   "execution_count": 32,
   "id": "005f5fa0",
   "metadata": {},
   "outputs": [
    {
     "name": "stdout",
     "output_type": "stream",
     "text": [
      "AUS.xlsx  IND.csv   USA.csv\r\n"
     ]
    }
   ],
   "source": [
    "ls ./../Data"
   ]
  },
  {
   "cell_type": "code",
   "execution_count": 33,
   "id": "af4cdb8d",
   "metadata": {},
   "outputs": [],
   "source": [
    "def getSource_File_Path(logger):\n",
    "    logger.info(\"[INFO]: Reading configuration file.\")\n",
    "    conffilepath = '/Volumes/E-Study/Github/Data-Engineering-Vaccination-Metrics/Config/configfile.ini'\n",
    "    configfile = pathlib.Path(conffilepath)\n",
    "    \n",
    "    if configfile.exists():\n",
    "        logger.info(\"[INFO]: Configuration file: \" + str(configfile))\n",
    "        config_obj = configparser.ConfigParser()\n",
    "        config_obj.read(configfile)\n",
    "        try:\n",
    "            srcfilepath = config_obj['parameters']['filepath']\n",
    "            logger.info(\"[INFO]: Source file location: \" + srcfilepath)\n",
    "            return srcfilepath\n",
    "        except KeyError as e:\n",
    "            logger.error(\"[ERROR]: filepath parameter not found in the configfile.ini.\")\n",
    "            return 1\n",
    "    else:\n",
    "        logger.error(\"[ERROR]: configfile.ini is missing.\")\n",
    "        logger.error(\"[ERROR]: configfile.ini expected location: \" + str(conffilepath))\n",
    "        return 1"
   ]
  },
  {
   "cell_type": "code",
   "execution_count": 34,
   "id": "eaed3a50",
   "metadata": {},
   "outputs": [],
   "source": [
    "def getLog_File_Path(logger):\n",
    "    conffilepath = '/Volumes/E-Study/Github/Data-Engineering-Vaccination-Metrics/Config/configfile.ini'\n",
    "    configfile = pathlib.Path(conffilepath)\n",
    "    if configfile.exists():\n",
    "        logger.info(\"[INFO]: Configuration file: \" + str(configfile))\n",
    "        config_obj = configparser.ConfigParser()\n",
    "        config_obj.read(configfile)\n",
    "        try:\n",
    "            logpath = config_obj['parameters']['logpath']\n",
    "            logger.info(\"[INFO]: Log file location: \" + logpath)\n",
    "            return logpath\n",
    "        except KeyError as e:\n",
    "            logger.error(\"[ERROR]: logpath parameter not found in the configfile.ini.\")\n",
    "            return 1\n",
    "    else:\n",
    "        logger.error(\"[ERROR]: configfile.ini is missing.\")\n",
    "        return 1"
   ]
  },
  {
   "cell_type": "code",
   "execution_count": 35,
   "id": "70276ff9",
   "metadata": {},
   "outputs": [],
   "source": [
    "def isValid_File_Type(f):\n",
    "    if f.endswith('.xlsx') or f.endswith('.XLSX'):\n",
    "        return True\n",
    "    elif f.endswith('.csv') or f.endswith('.CSV'):\n",
    "        return True\n",
    "    elif f.startswith('.'):\n",
    "        return True\n",
    "    else:\n",
    "        return False"
   ]
  },
  {
   "cell_type": "code",
   "execution_count": 36,
   "id": "84fef53f",
   "metadata": {},
   "outputs": [],
   "source": [
    "def init_log():\n",
    "    logger=logging.getLogger()\n",
    "    logpath = getLog_File_Path(logger)\n",
    "    logfile = logpath + str(datetime.now().strftime('%Y_%m_%d')) + '.log'\n",
    "    logging.basicConfig(filename=logfile,\n",
    "                        format='%(asctime)s %(message)s',\n",
    "                        filemode='w',\n",
    "                        force=True)\n",
    "    return logger"
   ]
  },
  {
   "cell_type": "code",
   "execution_count": 37,
   "id": "b6399641",
   "metadata": {},
   "outputs": [],
   "source": [
    "def abort():\n",
    "    sys.exit()\n",
    "    "
   ]
  },
  {
   "cell_type": "code",
   "execution_count": 38,
   "id": "8656818f",
   "metadata": {},
   "outputs": [],
   "source": [
    "def job_Housekeeping(logger):\n",
    "    logger.info(\"[INFO]: Starting the full feed process.\")\n",
    "    \n",
    "    filepath = getSource_File_Path(logger)\n",
    "    \n",
    "    if filepath == 1:\n",
    "        return 1\n",
    "    \n",
    "    files = os.listdir(filepath)\n",
    "    files = [f for f in files if not f.startswith('.')]\n",
    "    if len(files) == 0:\n",
    "        logger.error(\"[ERROR]: Input files are missing. Please contact the source system.\")\n",
    "        return 1\n",
    "\n",
    "    logger.info(\"[INFO]: Validating the file types received from source.\")\n",
    "    for f in files:\n",
    "        if isValid_File_Type(f):\n",
    "            logger.info(\"[INFO]: Valid file type. Filename is: \" + f)\n",
    "        else:\n",
    "            logger.error(\"[ERROR]: Invalid file type received from source. Filename is: \" + f)\n",
    "            return 1\n",
    "    return 0"
   ]
  },
  {
   "cell_type": "code",
   "execution_count": 67,
   "id": "0f3d3604",
   "metadata": {},
   "outputs": [],
   "source": [
    "def datacleansing_IND(logger, fname):\n",
    "    df = pd.read_csv(fname)\n",
    "    print(df.head())"
   ]
  },
  {
   "cell_type": "code",
   "execution_count": 75,
   "id": "eeeac3e5",
   "metadata": {},
   "outputs": [
    {
     "data": {
      "text/html": [
       "<div>\n",
       "<style scoped>\n",
       "    .dataframe tbody tr th:only-of-type {\n",
       "        vertical-align: middle;\n",
       "    }\n",
       "\n",
       "    .dataframe tbody tr th {\n",
       "        vertical-align: top;\n",
       "    }\n",
       "\n",
       "    .dataframe thead th {\n",
       "        text-align: right;\n",
       "    }\n",
       "</style>\n",
       "<table border=\"1\" class=\"dataframe\">\n",
       "  <thead>\n",
       "    <tr style=\"text-align: right;\">\n",
       "      <th></th>\n",
       "      <th>ID</th>\n",
       "      <th>Name</th>\n",
       "      <th>DOB</th>\n",
       "      <th>VaccinationType</th>\n",
       "      <th>VaccinationDate</th>\n",
       "      <th>Free or Paid</th>\n",
       "    </tr>\n",
       "  </thead>\n",
       "  <tbody>\n",
       "    <tr>\n",
       "      <th>0</th>\n",
       "      <td>1</td>\n",
       "      <td>Vikas</td>\n",
       "      <td>1998-12-01</td>\n",
       "      <td>XYZ</td>\n",
       "      <td>2022-01-01</td>\n",
       "      <td>F</td>\n",
       "    </tr>\n",
       "    <tr>\n",
       "      <th>1</th>\n",
       "      <td>2</td>\n",
       "      <td>Rahul</td>\n",
       "      <td>1982-08-13</td>\n",
       "      <td>ABC</td>\n",
       "      <td>2022-03-05</td>\n",
       "      <td>P</td>\n",
       "    </tr>\n",
       "    <tr>\n",
       "      <th>2</th>\n",
       "      <td>3</td>\n",
       "      <td>Sameer</td>\n",
       "      <td>1952-08-13</td>\n",
       "      <td>ABC</td>\n",
       "      <td>2022-02-20</td>\n",
       "      <td>F</td>\n",
       "    </tr>\n",
       "  </tbody>\n",
       "</table>\n",
       "</div>"
      ],
      "text/plain": [
       "   ID    Name         DOB VaccinationType VaccinationDate Free or Paid\n",
       "0   1   Vikas  1998-12-01             XYZ      2022-01-01            F\n",
       "1   2   Rahul  1982-08-13             ABC      2022-03-05            P\n",
       "2   3  Sameer  1952-08-13             ABC      2022-02-20            F"
      ]
     },
     "execution_count": 75,
     "metadata": {},
     "output_type": "execute_result"
    }
   ],
   "source": [
    "df_ind"
   ]
  },
  {
   "cell_type": "code",
   "execution_count": 79,
   "id": "2901f9cf",
   "metadata": {},
   "outputs": [
    {
     "ename": "AttributeError",
     "evalue": "'Index' object has no attribute 'validate'",
     "output_type": "error",
     "traceback": [
      "\u001b[0;31m---------------------------------------------------------------------------\u001b[0m",
      "\u001b[0;31mAttributeError\u001b[0m                            Traceback (most recent call last)",
      "\u001b[0;32m/var/folders/6w/q1xm5lh54h19xrg_qr3075fm0000gn/T/ipykernel_53804/3803858203.py\u001b[0m in \u001b[0;36m<module>\u001b[0;34m\u001b[0m\n\u001b[0;32m----> 1\u001b[0;31m \u001b[0mdf_ind\u001b[0m\u001b[0;34m.\u001b[0m\u001b[0mcolumns\u001b[0m\u001b[0;34m.\u001b[0m\u001b[0mvalidate\u001b[0m\u001b[0;34m(\u001b[0m\u001b[0;34m)\u001b[0m\u001b[0;34m\u001b[0m\u001b[0;34m\u001b[0m\u001b[0m\n\u001b[0m",
      "\u001b[0;31mAttributeError\u001b[0m: 'Index' object has no attribute 'validate'"
     ]
    }
   ],
   "source": [
    "df_ind.columns.validate()"
   ]
  },
  {
   "cell_type": "code",
   "execution_count": 68,
   "id": "bed5581f",
   "metadata": {},
   "outputs": [],
   "source": [
    "def datacleansing_USA(logger, fname):\n",
    "    print(fname)"
   ]
  },
  {
   "cell_type": "code",
   "execution_count": 69,
   "id": "d86b37c8",
   "metadata": {},
   "outputs": [],
   "source": [
    "def datacleansing_AUS(logger, fname):\n",
    "    print(fname)"
   ]
  },
  {
   "cell_type": "code",
   "execution_count": 70,
   "id": "0c1145b3",
   "metadata": {},
   "outputs": [],
   "source": [
    "def job_Datacleansing(logger):\n",
    "    logger.info(\"[INFO]: -----------------------------------\")\n",
    "    logger.info(\"[INFO]: Starting the data cleansing process.\")\n",
    "    filepath = getSource_File_Path(logger)\n",
    "    files = os.listdir(filepath)\n",
    "    files = [f for f in files if not f.startswith('.')]\n",
    "    for f in files:\n",
    "        fname = filepath + f\n",
    "        if f in ['IND.csv', 'IND.CSV']:\n",
    "            datacleansing_IND(logger, fname)\n",
    "        elif f in ['USA.csv', 'USA.CSV']:\n",
    "            datacleansing_USA(logger, fname)\n",
    "        elif f in ['AUS.xlsx', 'AUS.XLSX']:\n",
    "            datacleansing_AUS(logger, fname)\n",
    "        else:\n",
    "            logger.warning(\"[WARNING]: New country's data is received. Please check.\")\n",
    "            return 2"
   ]
  },
  {
   "cell_type": "code",
   "execution_count": 71,
   "id": "990c2df8",
   "metadata": {},
   "outputs": [
    {
     "name": "stdout",
     "output_type": "stream",
     "text": [
      "   ID    Name         DOB VaccinationType VaccinationDate Free or Paid\n",
      "0   1   Vikas  1998-12-01             XYZ      2022-01-01            F\n",
      "1   2   Rahul  1982-08-13             ABC      2022-03-05            P\n",
      "2   3  Sameer  1952-08-13             ABC      2022-02-20            F\n",
      "/Volumes/E-Study/Github/Data-Engineering-Vaccination-Metrics/Data/AUS.xlsx\n",
      "/Volumes/E-Study/Github/Data-Engineering-Vaccination-Metrics/Data/USA.csv\n"
     ]
    }
   ],
   "source": [
    "logger = init_log()\n",
    "logger.setLevel(logging.DEBUG)\n",
    "\n",
    "jb_hkeep_rc = job_Housekeeping(logger)\n",
    "if (jb_hkeep_rc):\n",
    "    logger.error(\"[ERROR]: Aborting the housekeeping job.\")\n",
    "    abort()\n",
    "else:\n",
    "    logger.info(\"[INFO]: Housekeeping job ended successfully.\")\n",
    "    job_Datacleansing(logger)"
   ]
  },
  {
   "cell_type": "code",
   "execution_count": null,
   "id": "b30fbea4",
   "metadata": {},
   "outputs": [],
   "source": []
  },
  {
   "cell_type": "code",
   "execution_count": null,
   "id": "ecaa163e",
   "metadata": {},
   "outputs": [],
   "source": []
  },
  {
   "cell_type": "code",
   "execution_count": null,
   "id": "c186620b",
   "metadata": {},
   "outputs": [],
   "source": []
  },
  {
   "cell_type": "code",
   "execution_count": null,
   "id": "26129030",
   "metadata": {},
   "outputs": [],
   "source": []
  },
  {
   "cell_type": "code",
   "execution_count": 11,
   "id": "47101fbb",
   "metadata": {},
   "outputs": [
    {
     "data": {
      "text/html": [
       "<div>\n",
       "<style scoped>\n",
       "    .dataframe tbody tr th:only-of-type {\n",
       "        vertical-align: middle;\n",
       "    }\n",
       "\n",
       "    .dataframe tbody tr th {\n",
       "        vertical-align: top;\n",
       "    }\n",
       "\n",
       "    .dataframe thead th {\n",
       "        text-align: right;\n",
       "    }\n",
       "</style>\n",
       "<table border=\"1\" class=\"dataframe\">\n",
       "  <thead>\n",
       "    <tr style=\"text-align: right;\">\n",
       "      <th></th>\n",
       "      <th>Unique ID</th>\n",
       "      <th>Patient Name</th>\n",
       "      <th>Vaccine Type</th>\n",
       "      <th>Date of Birth</th>\n",
       "      <th>Date of Vaccination</th>\n",
       "    </tr>\n",
       "  </thead>\n",
       "  <tbody>\n",
       "    <tr>\n",
       "      <th>0</th>\n",
       "      <td>1</td>\n",
       "      <td>Mike</td>\n",
       "      <td>LMN</td>\n",
       "      <td>NaT</td>\n",
       "      <td>2022-05-11 00:00:00</td>\n",
       "    </tr>\n",
       "    <tr>\n",
       "      <th>1</th>\n",
       "      <td>2</td>\n",
       "      <td>Jonnathan</td>\n",
       "      <td>XYZ</td>\n",
       "      <td>1997-12-13</td>\n",
       "      <td>2021-13-13</td>\n",
       "    </tr>\n",
       "    <tr>\n",
       "      <th>2</th>\n",
       "      <td>3</td>\n",
       "      <td>Cristina</td>\n",
       "      <td>ABC</td>\n",
       "      <td>1998-03-12</td>\n",
       "      <td>2022-03-12 00:00:00</td>\n",
       "    </tr>\n",
       "  </tbody>\n",
       "</table>\n",
       "</div>"
      ],
      "text/plain": [
       "   Unique ID Patient Name Vaccine Type Date of Birth  Date of Vaccination\n",
       "0          1         Mike          LMN           NaT  2022-05-11 00:00:00\n",
       "1          2    Jonnathan          XYZ    1997-12-13           2021-13-13\n",
       "2          3     Cristina          ABC    1998-03-12  2022-03-12 00:00:00"
      ]
     },
     "execution_count": 11,
     "metadata": {},
     "output_type": "execute_result"
    }
   ],
   "source": [
    "df_aus = pd.read_excel('./../Data/AUS.xlsx')\n",
    "df_aus.head()"
   ]
  },
  {
   "cell_type": "code",
   "execution_count": 24,
   "id": "f87c3ee2",
   "metadata": {},
   "outputs": [
    {
     "data": {
      "text/plain": [
       "Unique ID              0\n",
       "Patient Name           0\n",
       "Vaccine Type           0\n",
       "Date of Birth          1\n",
       "Date of Vaccination    0\n",
       "dtype: int64"
      ]
     },
     "execution_count": 24,
     "metadata": {},
     "output_type": "execute_result"
    }
   ],
   "source": [
    "df_aus.isna().sum()"
   ]
  },
  {
   "cell_type": "code",
   "execution_count": 74,
   "id": "37f4427a",
   "metadata": {},
   "outputs": [
    {
     "data": {
      "text/html": [
       "<div>\n",
       "<style scoped>\n",
       "    .dataframe tbody tr th:only-of-type {\n",
       "        vertical-align: middle;\n",
       "    }\n",
       "\n",
       "    .dataframe tbody tr th {\n",
       "        vertical-align: top;\n",
       "    }\n",
       "\n",
       "    .dataframe thead th {\n",
       "        text-align: right;\n",
       "    }\n",
       "</style>\n",
       "<table border=\"1\" class=\"dataframe\">\n",
       "  <thead>\n",
       "    <tr style=\"text-align: right;\">\n",
       "      <th></th>\n",
       "      <th>ID</th>\n",
       "      <th>Name</th>\n",
       "      <th>DOB</th>\n",
       "      <th>VaccinationType</th>\n",
       "      <th>VaccinationDate</th>\n",
       "      <th>Free or Paid</th>\n",
       "    </tr>\n",
       "  </thead>\n",
       "  <tbody>\n",
       "    <tr>\n",
       "      <th>0</th>\n",
       "      <td>1</td>\n",
       "      <td>Vikas</td>\n",
       "      <td>1998-12-01</td>\n",
       "      <td>XYZ</td>\n",
       "      <td>2022-01-01</td>\n",
       "      <td>F</td>\n",
       "    </tr>\n",
       "    <tr>\n",
       "      <th>1</th>\n",
       "      <td>2</td>\n",
       "      <td>Rahul</td>\n",
       "      <td>1982-08-13</td>\n",
       "      <td>ABC</td>\n",
       "      <td>2022-03-05</td>\n",
       "      <td>P</td>\n",
       "    </tr>\n",
       "    <tr>\n",
       "      <th>2</th>\n",
       "      <td>3</td>\n",
       "      <td>Sameer</td>\n",
       "      <td>1952-08-13</td>\n",
       "      <td>ABC</td>\n",
       "      <td>2022-02-20</td>\n",
       "      <td>F</td>\n",
       "    </tr>\n",
       "  </tbody>\n",
       "</table>\n",
       "</div>"
      ],
      "text/plain": [
       "   ID    Name         DOB VaccinationType VaccinationDate Free or Paid\n",
       "0   1   Vikas  1998-12-01             XYZ      2022-01-01            F\n",
       "1   2   Rahul  1982-08-13             ABC      2022-03-05            P\n",
       "2   3  Sameer  1952-08-13             ABC      2022-02-20            F"
      ]
     },
     "execution_count": 74,
     "metadata": {},
     "output_type": "execute_result"
    }
   ],
   "source": [
    "df_ind = pd.read_csv('./../Data/IND.csv')\n",
    "df_ind.head()"
   ]
  },
  {
   "cell_type": "code",
   "execution_count": 26,
   "id": "b3499696",
   "metadata": {},
   "outputs": [
    {
     "data": {
      "text/plain": [
       "ID                 0\n",
       "Name               0\n",
       "DOB                0\n",
       "VaccinationType    0\n",
       "VaccinationDate    0\n",
       "Free or Paid       0\n",
       "dtype: int64"
      ]
     },
     "execution_count": 26,
     "metadata": {},
     "output_type": "execute_result"
    }
   ],
   "source": [
    "df_ind.isna().sum()"
   ]
  },
  {
   "cell_type": "code",
   "execution_count": 27,
   "id": "22bdce7d",
   "metadata": {},
   "outputs": [
    {
     "data": {
      "text/html": [
       "<div>\n",
       "<style scoped>\n",
       "    .dataframe tbody tr th:only-of-type {\n",
       "        vertical-align: middle;\n",
       "    }\n",
       "\n",
       "    .dataframe tbody tr th {\n",
       "        vertical-align: top;\n",
       "    }\n",
       "\n",
       "    .dataframe thead th {\n",
       "        text-align: right;\n",
       "    }\n",
       "</style>\n",
       "<table border=\"1\" class=\"dataframe\">\n",
       "  <thead>\n",
       "    <tr style=\"text-align: right;\">\n",
       "      <th></th>\n",
       "      <th>ID</th>\n",
       "      <th>Name</th>\n",
       "      <th>VaccinationType</th>\n",
       "      <th>VaccinationDate</th>\n",
       "    </tr>\n",
       "  </thead>\n",
       "  <tbody>\n",
       "    <tr>\n",
       "      <th>0</th>\n",
       "      <td>1</td>\n",
       "      <td>Sam</td>\n",
       "      <td>EFG</td>\n",
       "      <td>6152022</td>\n",
       "    </tr>\n",
       "    <tr>\n",
       "      <th>1</th>\n",
       "      <td>2</td>\n",
       "      <td>John</td>\n",
       "      <td>XYZ</td>\n",
       "      <td>1052022</td>\n",
       "    </tr>\n",
       "    <tr>\n",
       "      <th>2</th>\n",
       "      <td>3</td>\n",
       "      <td>Mike</td>\n",
       "      <td>ABC</td>\n",
       "      <td>12282021</td>\n",
       "    </tr>\n",
       "  </tbody>\n",
       "</table>\n",
       "</div>"
      ],
      "text/plain": [
       "   ID  Name VaccinationType  VaccinationDate\n",
       "0   1   Sam             EFG          6152022\n",
       "1   2  John             XYZ          1052022\n",
       "2   3  Mike             ABC         12282021"
      ]
     },
     "execution_count": 27,
     "metadata": {},
     "output_type": "execute_result"
    }
   ],
   "source": [
    "df_usa = pd.read_csv('./../Data/USA.csv')\n",
    "df_usa.head()"
   ]
  },
  {
   "cell_type": "code",
   "execution_count": 28,
   "id": "42936f7b",
   "metadata": {},
   "outputs": [
    {
     "data": {
      "text/plain": [
       "ID                 0\n",
       "Name               0\n",
       "VaccinationType    0\n",
       "VaccinationDate    0\n",
       "dtype: int64"
      ]
     },
     "execution_count": 28,
     "metadata": {},
     "output_type": "execute_result"
    }
   ],
   "source": [
    "df_usa.isna().sum()"
   ]
  },
  {
   "cell_type": "code",
   "execution_count": null,
   "id": "abce2c86",
   "metadata": {},
   "outputs": [],
   "source": []
  },
  {
   "cell_type": "code",
   "execution_count": null,
   "id": "ad514e44",
   "metadata": {},
   "outputs": [],
   "source": []
  }
 ],
 "metadata": {
  "kernelspec": {
   "display_name": "Python 3 (ipykernel)",
   "language": "python",
   "name": "python3"
  },
  "language_info": {
   "codemirror_mode": {
    "name": "ipython",
    "version": 3
   },
   "file_extension": ".py",
   "mimetype": "text/x-python",
   "name": "python",
   "nbconvert_exporter": "python",
   "pygments_lexer": "ipython3",
   "version": "3.9.13"
  }
 },
 "nbformat": 4,
 "nbformat_minor": 5
}
