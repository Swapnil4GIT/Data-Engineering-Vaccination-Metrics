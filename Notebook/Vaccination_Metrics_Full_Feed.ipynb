{
 "cells": [
  {
   "cell_type": "code",
   "execution_count": 30,
   "id": "97f8c846",
   "metadata": {},
   "outputs": [],
   "source": [
    "import numpy as np\n",
    "import pandas as pd\n",
    "import matplotlib.pyplot as plt\n",
    "import seaborn as sns\n",
    "import os\n",
    "import configparser\n",
    "import pathlib\n",
    "import logging\n",
    "from datetime import datetime\n",
    "import sys"
   ]
  },
  {
   "cell_type": "code",
   "execution_count": 31,
   "id": "3640f108",
   "metadata": {},
   "outputs": [
    {
     "name": "stdout",
     "output_type": "stream",
     "text": [
      "\u001b[34mArchive\u001b[m\u001b[m/   \u001b[34mData\u001b[m\u001b[m/      \u001b[34mLogs\u001b[m\u001b[m/      README.md\r\n",
      "\u001b[34mConfig\u001b[m\u001b[m/    \u001b[34mDataModel\u001b[m\u001b[m/ \u001b[34mNotebook\u001b[m\u001b[m/  \u001b[34mSOW\u001b[m\u001b[m/\r\n"
     ]
    }
   ],
   "source": [
    "ls ./.."
   ]
  },
  {
   "cell_type": "code",
   "execution_count": 32,
   "id": "9ed97537",
   "metadata": {},
   "outputs": [
    {
     "name": "stdout",
     "output_type": "stream",
     "text": [
      "AUS.xlsx  IND.csv   USA.csv\r\n"
     ]
    }
   ],
   "source": [
    "ls ./../Data"
   ]
  },
  {
   "cell_type": "code",
   "execution_count": 33,
   "id": "7ee8d22b",
   "metadata": {},
   "outputs": [],
   "source": [
    "def getSource_File_Path(logger):\n",
    "    logger.info(\"[INFO]: Reading configuration file.\")\n",
    "    conffilepath = '/Volumes/E-Study/Github/Data-Engineering-Vaccination-Metrics/Config/configfile.ini'\n",
    "    configfile = pathlib.Path(conffilepath)\n",
    "    \n",
    "    if configfile.exists():\n",
    "        logger.info(\"[INFO]: Configuration file: \" + str(configfile))\n",
    "        config_obj = configparser.ConfigParser()\n",
    "        config_obj.read(configfile)\n",
    "        try:\n",
    "            srcfilepath = config_obj['parameters']['filepath']\n",
    "            logger.info(\"[INFO]: Source file location: \" + srcfilepath)\n",
    "            return srcfilepath\n",
    "        except KeyError as e:\n",
    "            logger.error(\"[ERROR]: filepath parameter not found in the configfile.ini.\")\n",
    "            return 1\n",
    "    else:\n",
    "        logger.error(\"[ERROR]: configfile.ini is missing.\")\n",
    "        logger.error(\"[ERROR]: configfile.ini expected location: \" + str(conffilepath))\n",
    "        return 1"
   ]
  },
  {
   "cell_type": "code",
   "execution_count": 34,
   "id": "4754d1b9",
   "metadata": {},
   "outputs": [],
   "source": [
    "def getLog_File_Path(logger):\n",
    "    conffilepath = '/Volumes/E-Study/Github/Data-Engineering-Vaccination-Metrics/Config/configfile.ini'\n",
    "    configfile = pathlib.Path(conffilepath)\n",
    "    if configfile.exists():\n",
    "        logger.info(\"[INFO]: Configuration file: \" + str(configfile))\n",
    "        config_obj = configparser.ConfigParser()\n",
    "        config_obj.read(configfile)\n",
    "        try:\n",
    "            logpath = config_obj['parameters']['logpath']\n",
    "            logger.info(\"[INFO]: Log file location: \" + logpath)\n",
    "            return logpath\n",
    "        except KeyError as e:\n",
    "            logger.error(\"[ERROR]: logpath parameter not found in the configfile.ini.\")\n",
    "            return 1\n",
    "    else:\n",
    "        logger.error(\"[ERROR]: configfile.ini is missing.\")\n",
    "        return 1"
   ]
  },
  {
   "cell_type": "code",
   "execution_count": 35,
   "id": "50e8a6e3",
   "metadata": {},
   "outputs": [],
   "source": [
    "def isValid_File_Type(f):\n",
    "    if f.endswith('.xlsx') or f.endswith('.XLSX'):\n",
    "        return True\n",
    "    elif f.endswith('.csv') or f.endswith('.CSV'):\n",
    "        return True\n",
    "    elif f.startswith('.'):\n",
    "        return True\n",
    "    else:\n",
    "        return False"
   ]
  },
  {
   "cell_type": "code",
   "execution_count": 36,
   "id": "74b3847d",
   "metadata": {},
   "outputs": [],
   "source": [
    "def init_log():\n",
    "    logger=logging.getLogger()\n",
    "    logpath = getLog_File_Path(logger)\n",
    "    logfile = logpath + str(datetime.now().strftime('%Y_%m_%d')) + '.log'\n",
    "    logging.basicConfig(filename=logfile,\n",
    "                        format='%(asctime)s %(message)s',\n",
    "                        filemode='w',\n",
    "                        force=True)\n",
    "    return logger"
   ]
  },
  {
   "cell_type": "code",
   "execution_count": 37,
   "id": "322dac14",
   "metadata": {},
   "outputs": [],
   "source": [
    "def abort():\n",
    "    sys.exit()\n",
    "    "
   ]
  },
  {
   "cell_type": "code",
   "execution_count": 38,
   "id": "2c068217",
   "metadata": {},
   "outputs": [],
   "source": [
    "def job_Housekeeping(logger):\n",
    "    logger.info(\"[INFO]: Starting the full feed process.\")\n",
    "    \n",
    "    filepath = getSource_File_Path(logger)\n",
    "    \n",
    "    if filepath == 1:\n",
    "        return 1\n",
    "    \n",
    "    files = os.listdir(filepath)\n",
    "    files = [f for f in files if not f.startswith('.')]\n",
    "    if len(files) == 0:\n",
    "        logger.error(\"[ERROR]: Input files are missing. Please contact the source system.\")\n",
    "        return 1\n",
    "\n",
    "    logger.info(\"[INFO]: Validating the file types received from source.\")\n",
    "    for f in files:\n",
    "        if isValid_File_Type(f):\n",
    "            logger.info(\"[INFO]: Valid file type. Filename is: \" + f)\n",
    "        else:\n",
    "            logger.error(\"[ERROR]: Invalid file type received from source. Filename is: \" + f)\n",
    "            return 1\n",
    "    return 0"
   ]
  },
  {
   "cell_type": "code",
   "execution_count": 67,
   "id": "0b98bbbb",
   "metadata": {},
   "outputs": [],
   "source": [
    "def datacleansing_IND(logger, fname):\n",
    "    df = pd.read_csv(fname)\n",
    "    print(df.head())"
   ]
  },
  {
   "cell_type": "code",
   "execution_count": 75,
   "id": "5b2ec84c",
   "metadata": {},
   "outputs": [
    {
     "data": {
      "text/html": [
       "<div>\n",
       "<style scoped>\n",
       "    .dataframe tbody tr th:only-of-type {\n",
       "        vertical-align: middle;\n",
       "    }\n",
       "\n",
       "    .dataframe tbody tr th {\n",
       "        vertical-align: top;\n",
       "    }\n",
       "\n",
       "    .dataframe thead th {\n",
       "        text-align: right;\n",
       "    }\n",
       "</style>\n",
       "<table border=\"1\" class=\"dataframe\">\n",
       "  <thead>\n",
       "    <tr style=\"text-align: right;\">\n",
       "      <th></th>\n",
       "      <th>ID</th>\n",
       "      <th>Name</th>\n",
       "      <th>DOB</th>\n",
       "      <th>VaccinationType</th>\n",
       "      <th>VaccinationDate</th>\n",
       "      <th>Free or Paid</th>\n",
       "    </tr>\n",
       "  </thead>\n",
       "  <tbody>\n",
       "    <tr>\n",
       "      <th>0</th>\n",
       "      <td>1</td>\n",
       "      <td>Vikas</td>\n",
       "      <td>1998-12-01</td>\n",
       "      <td>XYZ</td>\n",
       "      <td>2022-01-01</td>\n",
       "      <td>F</td>\n",
       "    </tr>\n",
       "    <tr>\n",
       "      <th>1</th>\n",
       "      <td>2</td>\n",
       "      <td>Rahul</td>\n",
       "      <td>1982-08-13</td>\n",
       "      <td>ABC</td>\n",
       "      <td>2022-03-05</td>\n",
       "      <td>P</td>\n",
       "    </tr>\n",
       "    <tr>\n",
       "      <th>2</th>\n",
       "      <td>3</td>\n",
       "      <td>Sameer</td>\n",
       "      <td>1952-08-13</td>\n",
       "      <td>ABC</td>\n",
       "      <td>2022-02-20</td>\n",
       "      <td>F</td>\n",
       "    </tr>\n",
       "  </tbody>\n",
       "</table>\n",
       "</div>"
      ],
      "text/plain": [
       "   ID    Name         DOB VaccinationType VaccinationDate Free or Paid\n",
       "0   1   Vikas  1998-12-01             XYZ      2022-01-01            F\n",
       "1   2   Rahul  1982-08-13             ABC      2022-03-05            P\n",
       "2   3  Sameer  1952-08-13             ABC      2022-02-20            F"
      ]
     },
     "execution_count": 75,
     "metadata": {},
     "output_type": "execute_result"
    }
   ],
   "source": [
    "df_ind"
   ]
  },
  {
   "cell_type": "code",
   "execution_count": 83,
   "id": "a9d77688",
   "metadata": {},
   "outputs": [
    {
     "data": {
      "text/plain": [
       "Index(['ID', 'Name', 'VaccinationType', 'VaccinationDate'], dtype='object')"
      ]
     },
     "execution_count": 83,
     "metadata": {},
     "output_type": "execute_result"
    }
   ],
   "source": [
    "df_usa.columns"
   ]
  },
  {
   "cell_type": "code",
   "execution_count": 68,
   "id": "da1a6f2b",
   "metadata": {},
   "outputs": [],
   "source": [
    "def datacleansing_USA(logger, fname):\n",
    "    print(fname)"
   ]
  },
  {
   "cell_type": "code",
   "execution_count": 69,
   "id": "79f469da",
   "metadata": {},
   "outputs": [],
   "source": [
    "def datacleansing_AUS(logger, fname):\n",
    "    print(fname)"
   ]
  },
  {
   "cell_type": "code",
   "execution_count": 70,
   "id": "3bf685a1",
   "metadata": {},
   "outputs": [],
   "source": [
    "def job_Datacleansing(logger):\n",
    "    logger.info(\"[INFO]: -----------------------------------\")\n",
    "    logger.info(\"[INFO]: Starting the data cleansing process.\")\n",
    "    filepath = getSource_File_Path(logger)\n",
    "    files = os.listdir(filepath)\n",
    "    files = [f for f in files if not f.startswith('.')]\n",
    "    for f in files:\n",
    "        fname = filepath + f\n",
    "        if f in ['IND.csv', 'IND.CSV']:\n",
    "            datacleansing_IND(logger, fname)\n",
    "        elif f in ['USA.csv', 'USA.CSV']:\n",
    "            datacleansing_USA(logger, fname)\n",
    "        elif f in ['AUS.xlsx', 'AUS.XLSX']:\n",
    "            datacleansing_AUS(logger, fname)\n",
    "        else:\n",
    "            logger.warning(\"[WARNING]: New country's data is received. Please check.\")\n",
    "            return 2"
   ]
  },
  {
   "cell_type": "code",
   "execution_count": 71,
   "id": "4cffce53",
   "metadata": {},
   "outputs": [
    {
     "name": "stdout",
     "output_type": "stream",
     "text": [
      "   ID    Name         DOB VaccinationType VaccinationDate Free or Paid\n",
      "0   1   Vikas  1998-12-01             XYZ      2022-01-01            F\n",
      "1   2   Rahul  1982-08-13             ABC      2022-03-05            P\n",
      "2   3  Sameer  1952-08-13             ABC      2022-02-20            F\n",
      "/Volumes/E-Study/Github/Data-Engineering-Vaccination-Metrics/Data/AUS.xlsx\n",
      "/Volumes/E-Study/Github/Data-Engineering-Vaccination-Metrics/Data/USA.csv\n"
     ]
    }
   ],
   "source": [
    "logger = init_log()\n",
    "logger.setLevel(logging.DEBUG)\n",
    "\n",
    "jb_hkeep_rc = job_Housekeeping(logger)\n",
    "if (jb_hkeep_rc):\n",
    "    logger.error(\"[ERROR]: Aborting the housekeeping job.\")\n",
    "    abort()\n",
    "else:\n",
    "    logger.info(\"[INFO]: Housekeeping job ended successfully.\")\n",
    "    job_Datacleansing(logger)"
   ]
  },
  {
   "cell_type": "code",
   "execution_count": null,
   "id": "1c7d3c9f",
   "metadata": {},
   "outputs": [],
   "source": []
  },
  {
   "cell_type": "code",
   "execution_count": null,
   "id": "07558b42",
   "metadata": {},
   "outputs": [],
   "source": []
  },
  {
   "cell_type": "code",
   "execution_count": null,
   "id": "584e336a",
   "metadata": {},
   "outputs": [],
   "source": []
  },
  {
   "cell_type": "code",
   "execution_count": 91,
   "id": "7fb84c9d",
   "metadata": {},
   "outputs": [
    {
     "data": {
      "text/plain": [
       "Unique ID                       int64\n",
       "Patient Name                   object\n",
       "Vaccine Type                   object\n",
       "Date of Birth          datetime64[ns]\n",
       "Date of Vaccination            object\n",
       "dtype: object"
      ]
     },
     "execution_count": 91,
     "metadata": {},
     "output_type": "execute_result"
    }
   ],
   "source": [
    "df_aus.dtypes"
   ]
  },
  {
   "cell_type": "code",
   "execution_count": 84,
   "id": "3125cbe3",
   "metadata": {},
   "outputs": [
    {
     "data": {
      "text/html": [
       "<div>\n",
       "<style scoped>\n",
       "    .dataframe tbody tr th:only-of-type {\n",
       "        vertical-align: middle;\n",
       "    }\n",
       "\n",
       "    .dataframe tbody tr th {\n",
       "        vertical-align: top;\n",
       "    }\n",
       "\n",
       "    .dataframe thead th {\n",
       "        text-align: right;\n",
       "    }\n",
       "</style>\n",
       "<table border=\"1\" class=\"dataframe\">\n",
       "  <thead>\n",
       "    <tr style=\"text-align: right;\">\n",
       "      <th></th>\n",
       "      <th>Unique ID</th>\n",
       "      <th>Patient Name</th>\n",
       "      <th>Vaccine Type</th>\n",
       "      <th>Date of Birth</th>\n",
       "      <th>Date of Vaccination</th>\n",
       "    </tr>\n",
       "  </thead>\n",
       "  <tbody>\n",
       "    <tr>\n",
       "      <th>0</th>\n",
       "      <td>1</td>\n",
       "      <td>Mike</td>\n",
       "      <td>LMN</td>\n",
       "      <td>NaT</td>\n",
       "      <td>2022-05-11 00:00:00</td>\n",
       "    </tr>\n",
       "    <tr>\n",
       "      <th>1</th>\n",
       "      <td>2</td>\n",
       "      <td>Jonnathan</td>\n",
       "      <td>XYZ</td>\n",
       "      <td>1997-12-13</td>\n",
       "      <td>2021-13-13</td>\n",
       "    </tr>\n",
       "    <tr>\n",
       "      <th>2</th>\n",
       "      <td>3</td>\n",
       "      <td>Cristina</td>\n",
       "      <td>ABC</td>\n",
       "      <td>1998-03-12</td>\n",
       "      <td>2022-03-12 00:00:00</td>\n",
       "    </tr>\n",
       "  </tbody>\n",
       "</table>\n",
       "</div>"
      ],
      "text/plain": [
       "   Unique ID Patient Name Vaccine Type Date of Birth  Date of Vaccination\n",
       "0          1         Mike          LMN           NaT  2022-05-11 00:00:00\n",
       "1          2    Jonnathan          XYZ    1997-12-13           2021-13-13\n",
       "2          3     Cristina          ABC    1998-03-12  2022-03-12 00:00:00"
      ]
     },
     "execution_count": 84,
     "metadata": {},
     "output_type": "execute_result"
    }
   ],
   "source": [
    "df_aus = pd.read_excel('./../Data/AUS.xlsx')\n",
    "df_aus.head()"
   ]
  },
  {
   "cell_type": "code",
   "execution_count": 24,
   "id": "00b19bdd",
   "metadata": {},
   "outputs": [
    {
     "data": {
      "text/plain": [
       "Unique ID              0\n",
       "Patient Name           0\n",
       "Vaccine Type           0\n",
       "Date of Birth          1\n",
       "Date of Vaccination    0\n",
       "dtype: int64"
      ]
     },
     "execution_count": 24,
     "metadata": {},
     "output_type": "execute_result"
    }
   ],
   "source": [
    "df_aus.isna().sum()"
   ]
  },
  {
   "cell_type": "code",
   "execution_count": 74,
   "id": "22b65290",
   "metadata": {},
   "outputs": [
    {
     "data": {
      "text/html": [
       "<div>\n",
       "<style scoped>\n",
       "    .dataframe tbody tr th:only-of-type {\n",
       "        vertical-align: middle;\n",
       "    }\n",
       "\n",
       "    .dataframe tbody tr th {\n",
       "        vertical-align: top;\n",
       "    }\n",
       "\n",
       "    .dataframe thead th {\n",
       "        text-align: right;\n",
       "    }\n",
       "</style>\n",
       "<table border=\"1\" class=\"dataframe\">\n",
       "  <thead>\n",
       "    <tr style=\"text-align: right;\">\n",
       "      <th></th>\n",
       "      <th>ID</th>\n",
       "      <th>Name</th>\n",
       "      <th>DOB</th>\n",
       "      <th>VaccinationType</th>\n",
       "      <th>VaccinationDate</th>\n",
       "      <th>Free or Paid</th>\n",
       "    </tr>\n",
       "  </thead>\n",
       "  <tbody>\n",
       "    <tr>\n",
       "      <th>0</th>\n",
       "      <td>1</td>\n",
       "      <td>Vikas</td>\n",
       "      <td>1998-12-01</td>\n",
       "      <td>XYZ</td>\n",
       "      <td>2022-01-01</td>\n",
       "      <td>F</td>\n",
       "    </tr>\n",
       "    <tr>\n",
       "      <th>1</th>\n",
       "      <td>2</td>\n",
       "      <td>Rahul</td>\n",
       "      <td>1982-08-13</td>\n",
       "      <td>ABC</td>\n",
       "      <td>2022-03-05</td>\n",
       "      <td>P</td>\n",
       "    </tr>\n",
       "    <tr>\n",
       "      <th>2</th>\n",
       "      <td>3</td>\n",
       "      <td>Sameer</td>\n",
       "      <td>1952-08-13</td>\n",
       "      <td>ABC</td>\n",
       "      <td>2022-02-20</td>\n",
       "      <td>F</td>\n",
       "    </tr>\n",
       "  </tbody>\n",
       "</table>\n",
       "</div>"
      ],
      "text/plain": [
       "   ID    Name         DOB VaccinationType VaccinationDate Free or Paid\n",
       "0   1   Vikas  1998-12-01             XYZ      2022-01-01            F\n",
       "1   2   Rahul  1982-08-13             ABC      2022-03-05            P\n",
       "2   3  Sameer  1952-08-13             ABC      2022-02-20            F"
      ]
     },
     "execution_count": 74,
     "metadata": {},
     "output_type": "execute_result"
    }
   ],
   "source": [
    "df_ind = pd.read_csv('./../Data/IND.csv')\n",
    "df_ind.head()"
   ]
  },
  {
   "cell_type": "code",
   "execution_count": 26,
   "id": "3efa5d11",
   "metadata": {},
   "outputs": [
    {
     "data": {
      "text/plain": [
       "ID                 0\n",
       "Name               0\n",
       "DOB                0\n",
       "VaccinationType    0\n",
       "VaccinationDate    0\n",
       "Free or Paid       0\n",
       "dtype: int64"
      ]
     },
     "execution_count": 26,
     "metadata": {},
     "output_type": "execute_result"
    }
   ],
   "source": [
    "df_ind.isna().sum()"
   ]
  },
  {
   "cell_type": "code",
   "execution_count": 82,
   "id": "f8ab2b06",
   "metadata": {},
   "outputs": [
    {
     "data": {
      "text/html": [
       "<div>\n",
       "<style scoped>\n",
       "    .dataframe tbody tr th:only-of-type {\n",
       "        vertical-align: middle;\n",
       "    }\n",
       "\n",
       "    .dataframe tbody tr th {\n",
       "        vertical-align: top;\n",
       "    }\n",
       "\n",
       "    .dataframe thead th {\n",
       "        text-align: right;\n",
       "    }\n",
       "</style>\n",
       "<table border=\"1\" class=\"dataframe\">\n",
       "  <thead>\n",
       "    <tr style=\"text-align: right;\">\n",
       "      <th></th>\n",
       "      <th>ID</th>\n",
       "      <th>Name</th>\n",
       "      <th>VaccinationType</th>\n",
       "      <th>VaccinationDate</th>\n",
       "    </tr>\n",
       "  </thead>\n",
       "  <tbody>\n",
       "    <tr>\n",
       "      <th>0</th>\n",
       "      <td>1</td>\n",
       "      <td>Sam</td>\n",
       "      <td>EFG</td>\n",
       "      <td>6152022</td>\n",
       "    </tr>\n",
       "    <tr>\n",
       "      <th>1</th>\n",
       "      <td>2</td>\n",
       "      <td>John</td>\n",
       "      <td>XYZ</td>\n",
       "      <td>1052022</td>\n",
       "    </tr>\n",
       "    <tr>\n",
       "      <th>2</th>\n",
       "      <td>3</td>\n",
       "      <td>Mike</td>\n",
       "      <td>ABC</td>\n",
       "      <td>12282021</td>\n",
       "    </tr>\n",
       "  </tbody>\n",
       "</table>\n",
       "</div>"
      ],
      "text/plain": [
       "   ID  Name VaccinationType  VaccinationDate\n",
       "0   1   Sam             EFG          6152022\n",
       "1   2  John             XYZ          1052022\n",
       "2   3  Mike             ABC         12282021"
      ]
     },
     "execution_count": 82,
     "metadata": {},
     "output_type": "execute_result"
    }
   ],
   "source": [
    "df_usa = pd.read_csv('./../Data/USA.csv')\n",
    "df_usa.head()"
   ]
  },
  {
   "cell_type": "code",
   "execution_count": 28,
   "id": "96b31e99",
   "metadata": {},
   "outputs": [
    {
     "data": {
      "text/plain": [
       "ID                 0\n",
       "Name               0\n",
       "VaccinationType    0\n",
       "VaccinationDate    0\n",
       "dtype: int64"
      ]
     },
     "execution_count": 28,
     "metadata": {},
     "output_type": "execute_result"
    }
   ],
   "source": [
    "df_usa.isna().sum()"
   ]
  },
  {
   "cell_type": "code",
   "execution_count": 99,
   "id": "c7605fc4",
   "metadata": {},
   "outputs": [
    {
     "data": {
      "text/html": [
       "<div>\n",
       "<style scoped>\n",
       "    .dataframe tbody tr th:only-of-type {\n",
       "        vertical-align: middle;\n",
       "    }\n",
       "\n",
       "    .dataframe tbody tr th {\n",
       "        vertical-align: top;\n",
       "    }\n",
       "\n",
       "    .dataframe thead th {\n",
       "        text-align: right;\n",
       "    }\n",
       "</style>\n",
       "<table border=\"1\" class=\"dataframe\">\n",
       "  <thead>\n",
       "    <tr style=\"text-align: right;\">\n",
       "      <th></th>\n",
       "      <th>ID</th>\n",
       "      <th>Name</th>\n",
       "      <th>DOB</th>\n",
       "      <th>VaccinationType</th>\n",
       "      <th>VaccinationDate</th>\n",
       "      <th>Free or Paid</th>\n",
       "    </tr>\n",
       "  </thead>\n",
       "  <tbody>\n",
       "    <tr>\n",
       "      <th>0</th>\n",
       "      <td>1</td>\n",
       "      <td>Vikas</td>\n",
       "      <td>1998-12-01</td>\n",
       "      <td>XYZ</td>\n",
       "      <td>2022-01-01</td>\n",
       "      <td>F</td>\n",
       "    </tr>\n",
       "    <tr>\n",
       "      <th>1</th>\n",
       "      <td>2</td>\n",
       "      <td>Rahul</td>\n",
       "      <td>1982-08-13</td>\n",
       "      <td>ABC</td>\n",
       "      <td>2022-03-05</td>\n",
       "      <td>P</td>\n",
       "    </tr>\n",
       "    <tr>\n",
       "      <th>2</th>\n",
       "      <td>3</td>\n",
       "      <td>Sameer</td>\n",
       "      <td>1952-08-13</td>\n",
       "      <td>ABC</td>\n",
       "      <td>2022-02-20</td>\n",
       "      <td>F</td>\n",
       "    </tr>\n",
       "  </tbody>\n",
       "</table>\n",
       "</div>"
      ],
      "text/plain": [
       "   ID    Name         DOB VaccinationType VaccinationDate Free or Paid\n",
       "0   1   Vikas  1998-12-01             XYZ      2022-01-01            F\n",
       "1   2   Rahul  1982-08-13             ABC      2022-03-05            P\n",
       "2   3  Sameer  1952-08-13             ABC      2022-02-20            F"
      ]
     },
     "execution_count": 99,
     "metadata": {},
     "output_type": "execute_result"
    }
   ],
   "source": [
    "df_ind.head()"
   ]
  },
  {
   "cell_type": "code",
   "execution_count": 120,
   "id": "5b7f8762",
   "metadata": {},
   "outputs": [
    {
     "data": {
      "text/plain": [
       "ID                  int64\n",
       "Name               object\n",
       "DOB                object\n",
       "VaccinationType    object\n",
       "VaccinationDate    object\n",
       "Free or Paid       object\n",
       "dtype: object"
      ]
     },
     "execution_count": 120,
     "metadata": {},
     "output_type": "execute_result"
    }
   ],
   "source": [
    "df_ind.dtypes"
   ]
  },
  {
   "cell_type": "code",
   "execution_count": 209,
   "id": "8877f34d",
   "metadata": {},
   "outputs": [],
   "source": [
    "def IND_convert_Object_to_Date(obj):\n",
    "    try:\n",
    "        return datetime. strptime(str(obj), '%Y-%m-%d')\n",
    "    except:\n",
    "        return pd.to_datetime('2020-01-01')\n",
    "    "
   ]
  },
  {
   "cell_type": "code",
   "execution_count": 243,
   "id": "690cb767",
   "metadata": {},
   "outputs": [],
   "source": [
    "def USA_convert_Object_to_Date(obj):\n",
    "    try:\n",
    "        return datetime. strptime(str(obj).strip(), '%m%d%Y')\n",
    "    except:\n",
    "        return pd.to_datetime('2020-01-01')"
   ]
  },
  {
   "cell_type": "code",
   "execution_count": 265,
   "id": "85a689b6",
   "metadata": {},
   "outputs": [],
   "source": [
    "def AUS_convert_Object_to_Date(obj):\n",
    "    try:\n",
    "        return datetime. strptime(str(obj).strip(), '%Y-%m-%d')\n",
    "    except:\n",
    "        try:\n",
    "            return datetime.strptime(str(obj).strip(), '%Y-%m-%d %H:%M:%S')\n",
    "        except:\n",
    "            return pd.to_datetime('1920-01-01')"
   ]
  },
  {
   "cell_type": "code",
   "execution_count": 266,
   "id": "e699ac5f",
   "metadata": {},
   "outputs": [
    {
     "data": {
      "text/plain": [
       "Timestamp('1920-01-01 00:00:00')"
      ]
     },
     "execution_count": 266,
     "metadata": {},
     "output_type": "execute_result"
    }
   ],
   "source": [
    "AUS_convert_Object_to_Date('1-1-')"
   ]
  },
  {
   "cell_type": "code",
   "execution_count": 267,
   "id": "60397463",
   "metadata": {},
   "outputs": [
    {
     "data": {
      "text/plain": [
       "0   2022-05-11\n",
       "1   1920-01-01\n",
       "2   2022-03-12\n",
       "Name: Date of Vaccination, dtype: datetime64[ns]"
      ]
     },
     "execution_count": 267,
     "metadata": {},
     "output_type": "execute_result"
    }
   ],
   "source": [
    "df_aus['Date of Vaccination'].apply(lambda x: AUS_convert_Object_to_Date(x))"
   ]
  },
  {
   "cell_type": "code",
   "execution_count": 233,
   "id": "85414969",
   "metadata": {},
   "outputs": [],
   "source": [
    "df_usa['VaccinationDate'] = df_usa['VaccinationDate'].astype(str).apply(lambda x: x.strip())"
   ]
  },
  {
   "cell_type": "code",
   "execution_count": 237,
   "id": "eafe1e4f",
   "metadata": {},
   "outputs": [
    {
     "data": {
      "text/html": [
       "<div>\n",
       "<style scoped>\n",
       "    .dataframe tbody tr th:only-of-type {\n",
       "        vertical-align: middle;\n",
       "    }\n",
       "\n",
       "    .dataframe tbody tr th {\n",
       "        vertical-align: top;\n",
       "    }\n",
       "\n",
       "    .dataframe thead th {\n",
       "        text-align: right;\n",
       "    }\n",
       "</style>\n",
       "<table border=\"1\" class=\"dataframe\">\n",
       "  <thead>\n",
       "    <tr style=\"text-align: right;\">\n",
       "      <th></th>\n",
       "      <th>ID</th>\n",
       "      <th>Name</th>\n",
       "      <th>VaccinationType</th>\n",
       "      <th>VaccinationDate</th>\n",
       "    </tr>\n",
       "  </thead>\n",
       "  <tbody>\n",
       "    <tr>\n",
       "      <th>0</th>\n",
       "      <td>1</td>\n",
       "      <td>Sam</td>\n",
       "      <td>EFG</td>\n",
       "      <td>6152022</td>\n",
       "    </tr>\n",
       "    <tr>\n",
       "      <th>1</th>\n",
       "      <td>2</td>\n",
       "      <td>John</td>\n",
       "      <td>XYZ</td>\n",
       "      <td>1052022</td>\n",
       "    </tr>\n",
       "    <tr>\n",
       "      <th>2</th>\n",
       "      <td>3</td>\n",
       "      <td>Mike</td>\n",
       "      <td>ABC</td>\n",
       "      <td>12282021</td>\n",
       "    </tr>\n",
       "  </tbody>\n",
       "</table>\n",
       "</div>"
      ],
      "text/plain": [
       "   ID  Name VaccinationType VaccinationDate\n",
       "0   1   Sam             EFG         6152022\n",
       "1   2  John             XYZ         1052022\n",
       "2   3  Mike             ABC        12282021"
      ]
     },
     "execution_count": 237,
     "metadata": {},
     "output_type": "execute_result"
    }
   ],
   "source": [
    "df_usa"
   ]
  },
  {
   "cell_type": "code",
   "execution_count": 247,
   "id": "65586993",
   "metadata": {},
   "outputs": [
    {
     "data": {
      "text/plain": [
       "Unique ID                       int64\n",
       "Patient Name                   object\n",
       "Vaccine Type                   object\n",
       "Date of Birth          datetime64[ns]\n",
       "Date of Vaccination            object\n",
       "dtype: object"
      ]
     },
     "execution_count": 247,
     "metadata": {},
     "output_type": "execute_result"
    }
   ],
   "source": [
    "df_aus.dtypes"
   ]
  },
  {
   "cell_type": "code",
   "execution_count": 98,
   "id": "711610b5",
   "metadata": {},
   "outputs": [
    {
     "data": {
      "text/html": [
       "<div>\n",
       "<style scoped>\n",
       "    .dataframe tbody tr th:only-of-type {\n",
       "        vertical-align: middle;\n",
       "    }\n",
       "\n",
       "    .dataframe tbody tr th {\n",
       "        vertical-align: top;\n",
       "    }\n",
       "\n",
       "    .dataframe thead th {\n",
       "        text-align: right;\n",
       "    }\n",
       "</style>\n",
       "<table border=\"1\" class=\"dataframe\">\n",
       "  <thead>\n",
       "    <tr style=\"text-align: right;\">\n",
       "      <th></th>\n",
       "      <th>Unique ID</th>\n",
       "      <th>Patient Name</th>\n",
       "      <th>Vaccine Type</th>\n",
       "      <th>Date of Birth</th>\n",
       "      <th>Date of Vaccination</th>\n",
       "    </tr>\n",
       "  </thead>\n",
       "  <tbody>\n",
       "    <tr>\n",
       "      <th>0</th>\n",
       "      <td>1</td>\n",
       "      <td>Mike</td>\n",
       "      <td>LMN</td>\n",
       "      <td>NaT</td>\n",
       "      <td>2022-05-11 00:00:00</td>\n",
       "    </tr>\n",
       "    <tr>\n",
       "      <th>1</th>\n",
       "      <td>2</td>\n",
       "      <td>Jonnathan</td>\n",
       "      <td>XYZ</td>\n",
       "      <td>1997-12-13</td>\n",
       "      <td>2021-13-13</td>\n",
       "    </tr>\n",
       "    <tr>\n",
       "      <th>2</th>\n",
       "      <td>3</td>\n",
       "      <td>Cristina</td>\n",
       "      <td>ABC</td>\n",
       "      <td>1998-03-12</td>\n",
       "      <td>2022-03-12 00:00:00</td>\n",
       "    </tr>\n",
       "  </tbody>\n",
       "</table>\n",
       "</div>"
      ],
      "text/plain": [
       "   Unique ID Patient Name Vaccine Type Date of Birth  Date of Vaccination\n",
       "0          1         Mike          LMN           NaT  2022-05-11 00:00:00\n",
       "1          2    Jonnathan          XYZ    1997-12-13           2021-13-13\n",
       "2          3     Cristina          ABC    1998-03-12  2022-03-12 00:00:00"
      ]
     },
     "execution_count": 98,
     "metadata": {},
     "output_type": "execute_result"
    }
   ],
   "source": [
    "df_aus.head()"
   ]
  },
  {
   "cell_type": "code",
   "execution_count": 112,
   "id": "ecbd05e9",
   "metadata": {},
   "outputs": [
    {
     "data": {
      "text/plain": [
       "1"
      ]
     },
     "execution_count": 112,
     "metadata": {},
     "output_type": "execute_result"
    }
   ],
   "source": [
    "df_aus.loc[df_aus['Date of Birth'].isna()].shape[0]"
   ]
  },
  {
   "cell_type": "code",
   "execution_count": 119,
   "id": "62c29e10",
   "metadata": {},
   "outputs": [
    {
     "data": {
      "text/html": [
       "<div>\n",
       "<style scoped>\n",
       "    .dataframe tbody tr th:only-of-type {\n",
       "        vertical-align: middle;\n",
       "    }\n",
       "\n",
       "    .dataframe tbody tr th {\n",
       "        vertical-align: top;\n",
       "    }\n",
       "\n",
       "    .dataframe thead th {\n",
       "        text-align: right;\n",
       "    }\n",
       "</style>\n",
       "<table border=\"1\" class=\"dataframe\">\n",
       "  <thead>\n",
       "    <tr style=\"text-align: right;\">\n",
       "      <th></th>\n",
       "      <th>Unique ID</th>\n",
       "      <th>Patient Name</th>\n",
       "      <th>Vaccine Type</th>\n",
       "      <th>Date of Birth</th>\n",
       "      <th>Date of Vaccination</th>\n",
       "    </tr>\n",
       "  </thead>\n",
       "  <tbody>\n",
       "    <tr>\n",
       "      <th>1</th>\n",
       "      <td>2</td>\n",
       "      <td>Jonnathan</td>\n",
       "      <td>XYZ</td>\n",
       "      <td>1997-12-13</td>\n",
       "      <td>2021-13-13</td>\n",
       "    </tr>\n",
       "    <tr>\n",
       "      <th>2</th>\n",
       "      <td>3</td>\n",
       "      <td>Cristina</td>\n",
       "      <td>ABC</td>\n",
       "      <td>1998-03-12</td>\n",
       "      <td>2022-03-12 00:00:00</td>\n",
       "    </tr>\n",
       "  </tbody>\n",
       "</table>\n",
       "</div>"
      ],
      "text/plain": [
       "   Unique ID Patient Name Vaccine Type Date of Birth  Date of Vaccination\n",
       "1          2    Jonnathan          XYZ    1997-12-13           2021-13-13\n",
       "2          3     Cristina          ABC    1998-03-12  2022-03-12 00:00:00"
      ]
     },
     "execution_count": 119,
     "metadata": {},
     "output_type": "execute_result"
    }
   ],
   "source": [
    "df_aus.loc[~df_aus.isna().any(axis=1)]"
   ]
  },
  {
   "cell_type": "code",
   "execution_count": 269,
   "id": "469e2bc2",
   "metadata": {},
   "outputs": [
    {
     "data": {
      "text/plain": [
       "'AUS'"
      ]
     },
     "execution_count": 269,
     "metadata": {},
     "output_type": "execute_result"
    }
   ],
   "source": [
    "os.path.splitext('AUS.xlsx')[0]"
   ]
  },
  {
   "cell_type": "code",
   "execution_count": 273,
   "id": "88868e16",
   "metadata": {},
   "outputs": [],
   "source": [
    "df_i = pd.read_csv('../Staging/IND.csv')\n",
    "df_u = pd.read_csv('../Staging/USA.csv')\n",
    "df_a = pd.read_csv('../Staging/AUS.csv')"
   ]
  },
  {
   "cell_type": "code",
   "execution_count": 279,
   "id": "507e73a0",
   "metadata": {},
   "outputs": [
    {
     "data": {
      "text/html": [
       "<div>\n",
       "<style scoped>\n",
       "    .dataframe tbody tr th:only-of-type {\n",
       "        vertical-align: middle;\n",
       "    }\n",
       "\n",
       "    .dataframe tbody tr th {\n",
       "        vertical-align: top;\n",
       "    }\n",
       "\n",
       "    .dataframe thead th {\n",
       "        text-align: right;\n",
       "    }\n",
       "</style>\n",
       "<table border=\"1\" class=\"dataframe\">\n",
       "  <thead>\n",
       "    <tr style=\"text-align: right;\">\n",
       "      <th></th>\n",
       "      <th>ID</th>\n",
       "      <th>Country</th>\n",
       "      <th>Name</th>\n",
       "      <th>VaccinationType</th>\n",
       "      <th>VaccinationDate</th>\n",
       "    </tr>\n",
       "  </thead>\n",
       "  <tbody>\n",
       "    <tr>\n",
       "      <th>0</th>\n",
       "      <td>1</td>\n",
       "      <td>IND</td>\n",
       "      <td>Vikas</td>\n",
       "      <td>XYZ</td>\n",
       "      <td>2022-01-01</td>\n",
       "    </tr>\n",
       "    <tr>\n",
       "      <th>1</th>\n",
       "      <td>2</td>\n",
       "      <td>IND</td>\n",
       "      <td>Rahul</td>\n",
       "      <td>ABC</td>\n",
       "      <td>2022-03-05</td>\n",
       "    </tr>\n",
       "    <tr>\n",
       "      <th>2</th>\n",
       "      <td>3</td>\n",
       "      <td>IND</td>\n",
       "      <td>Sameer</td>\n",
       "      <td>ABC</td>\n",
       "      <td>2022-02-20</td>\n",
       "    </tr>\n",
       "    <tr>\n",
       "      <th>3</th>\n",
       "      <td>1</td>\n",
       "      <td>USA</td>\n",
       "      <td>Sam</td>\n",
       "      <td>EFG</td>\n",
       "      <td>2022-06-15</td>\n",
       "    </tr>\n",
       "    <tr>\n",
       "      <th>4</th>\n",
       "      <td>2</td>\n",
       "      <td>USA</td>\n",
       "      <td>John</td>\n",
       "      <td>XYZ</td>\n",
       "      <td>2022-10-05</td>\n",
       "    </tr>\n",
       "    <tr>\n",
       "      <th>5</th>\n",
       "      <td>3</td>\n",
       "      <td>USA</td>\n",
       "      <td>Mike</td>\n",
       "      <td>ABC</td>\n",
       "      <td>2021-12-28</td>\n",
       "    </tr>\n",
       "    <tr>\n",
       "      <th>6</th>\n",
       "      <td>1</td>\n",
       "      <td>AUS</td>\n",
       "      <td>Mike</td>\n",
       "      <td>LMN</td>\n",
       "      <td>2022-05-11</td>\n",
       "    </tr>\n",
       "    <tr>\n",
       "      <th>7</th>\n",
       "      <td>2</td>\n",
       "      <td>AUS</td>\n",
       "      <td>Jonnathan</td>\n",
       "      <td>XYZ</td>\n",
       "      <td>1920-01-01</td>\n",
       "    </tr>\n",
       "    <tr>\n",
       "      <th>8</th>\n",
       "      <td>3</td>\n",
       "      <td>AUS</td>\n",
       "      <td>Cristina</td>\n",
       "      <td>ABC</td>\n",
       "      <td>2022-03-12</td>\n",
       "    </tr>\n",
       "  </tbody>\n",
       "</table>\n",
       "</div>"
      ],
      "text/plain": [
       "   ID Country       Name VaccinationType VaccinationDate\n",
       "0   1     IND      Vikas             XYZ      2022-01-01\n",
       "1   2     IND      Rahul             ABC      2022-03-05\n",
       "2   3     IND     Sameer             ABC      2022-02-20\n",
       "3   1     USA        Sam             EFG      2022-06-15\n",
       "4   2     USA       John             XYZ      2022-10-05\n",
       "5   3     USA       Mike             ABC      2021-12-28\n",
       "6   1     AUS       Mike             LMN      2022-05-11\n",
       "7   2     AUS  Jonnathan             XYZ      1920-01-01\n",
       "8   3     AUS   Cristina             ABC      2022-03-12"
      ]
     },
     "execution_count": 279,
     "metadata": {},
     "output_type": "execute_result"
    }
   ],
   "source": [
    "pd.concat([df_i, df_u, df_a], ignore_index=True, sort=False)"
   ]
  },
  {
   "cell_type": "code",
   "execution_count": null,
   "id": "151c899d",
   "metadata": {},
   "outputs": [],
   "source": []
  }
 ],
 "metadata": {
  "kernelspec": {
   "display_name": "Python 3 (ipykernel)",
   "language": "python",
   "name": "python3"
  },
  "language_info": {
   "codemirror_mode": {
    "name": "ipython",
    "version": 3
   },
   "file_extension": ".py",
   "mimetype": "text/x-python",
   "name": "python",
   "nbconvert_exporter": "python",
   "pygments_lexer": "ipython3",
   "version": "3.9.13"
  }
 },
 "nbformat": 4,
 "nbformat_minor": 5
}
